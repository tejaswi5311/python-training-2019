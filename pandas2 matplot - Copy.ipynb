{
 "cells": [
  {
   "cell_type": "markdown",
   "metadata": {},
   "source": [
    "\n",
    "# Function & Description\n",
    "\n",
    "## Bar\n",
    "### Make a bar plot.\n",
    "\n",
    "## Barh\n",
    "### Make a horizontal bar plot.\n",
    "\n",
    "## Boxplot\n",
    "### Make a box and whisker plot.\n",
    "\n",
    "## Hist\n",
    "### Plot a histogram.\n",
    "\n",
    "## hist2d\n",
    "### Make a 2D histogram plot.\n",
    "\n",
    "## Pie\n",
    "### Plot a pie chart.\n",
    "\n",
    "## Plot\n",
    "### Plot lines and/or markers to the Axes.\n",
    "\n",
    "## Polar\n",
    "### Make a polar plot..\n",
    "\n",
    "## Scatter\n",
    "### Make a scatter plot of x vs y."
   ]
  },
  {
   "cell_type": "markdown",
   "metadata": {},
   "source": [
    "# Image Functions\n",
    "\n",
    "# Function & Description\n",
    "\n",
    "## Imread\n",
    "### Read an image from a file into an array.\n",
    "\n",
    "## Imsave\n",
    "### Save an array as in image file.\n",
    "\n",
    "## Imshow\n",
    "### Display an image on the axes."
   ]
  },
  {
   "cell_type": "markdown",
   "metadata": {},
   "source": []
  }
 ],
 "metadata": {
  "kernelspec": {
   "display_name": "Python 3",
   "language": "python",
   "name": "python3"
  },
  "language_info": {
   "codemirror_mode": {
    "name": "ipython",
    "version": 3
   },
   "file_extension": ".py",
   "mimetype": "text/x-python",
   "name": "python",
   "nbconvert_exporter": "python",
   "pygments_lexer": "ipython3",
   "version": "3.7.3"
  }
 },
 "nbformat": 4,
 "nbformat_minor": 2
}
