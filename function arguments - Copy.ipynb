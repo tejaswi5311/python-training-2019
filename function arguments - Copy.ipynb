{
 "cells": [
  {
   "cell_type": "code",
   "execution_count": 1,
   "metadata": {},
   "outputs": [
    {
     "name": "stdout",
     "output_type": "stream",
     "text": [
      "30\n",
      "36\n"
     ]
    }
   ],
   "source": [
    "def summ(a,b):\n",
    "    c=a+b\n",
    "    return c\n",
    "def mul(d,e):\n",
    "    f=d*e\n",
    "    return f\n",
    "print(summ(10,20))\n",
    "print(mul(6,6))"
   ]
  },
  {
   "cell_type": "markdown",
   "metadata": {},
   "source": [
    "# Function with arguments:\n",
    "#### 1. required argument/traditional argument\n",
    "#### 2.default argument\n",
    "#### 3.variable length argument/arbitary argument\n",
    "#### 4.keyword argument/positional argument"
   ]
  },
  {
   "cell_type": "code",
   "execution_count": 12,
   "metadata": {},
   "outputs": [
    {
     "name": "stdout",
     "output_type": "stream",
     "text": [
      "8\n"
     ]
    }
   ],
   "source": [
    "def cube(x):# required argument\n",
    "    return x*x*x\n",
    "z=cube(2)\n",
    "print(z)\n",
    "    \n",
    "    \n",
    "    \n"
   ]
  },
  {
   "cell_type": "code",
   "execution_count": 7,
   "metadata": {},
   "outputs": [
    {
     "name": "stdout",
     "output_type": "stream",
     "text": [
      "hi good morning\n",
      "hi good evening\n"
     ]
    }
   ],
   "source": [
    "def fun(a,b=\"good morning\"):#default arguments\n",
    "    print(a,b)\n",
    "    return\n",
    "fun(\"hi\")\n",
    "fun(\"hi\",\"good evening\")\n"
   ]
  },
  {
   "cell_type": "code",
   "execution_count": null,
   "metadata": {},
   "outputs": [],
   "source": []
  },
  {
   "cell_type": "code",
   "execution_count": 10,
   "metadata": {},
   "outputs": [
    {
     "name": "stdout",
     "output_type": "stream",
     "text": [
      "brass\n",
      "copper\n",
      "iron\n"
     ]
    }
   ],
   "source": [
    "def func(*names):# arbitary arguments\n",
    "    for i in names:\n",
    "        print(i)\n",
    "    return\n",
    "func(\"brass\",\"copper\",\"iron\")    "
   ]
  },
  {
   "cell_type": "code",
   "execution_count": 3,
   "metadata": {},
   "outputs": [
    {
     "name": "stdout",
     "output_type": "stream",
     "text": [
      "2\n",
      "30\n",
      "72\n"
     ]
    }
   ],
   "source": [
    "def rec(width,height):# positional arguments/keyword arguments\n",
    "    return width*height\n",
    "print(rec(1,2))\n",
    "print(rec(width=5,height=6))\n",
    "print(rec(height=8,width=9))\n"
   ]
  },
  {
   "cell_type": "code",
   "execution_count": 19,
   "metadata": {},
   "outputs": [
    {
     "name": "stdout",
     "output_type": "stream",
     "text": [
      "enter a number list of elements:5\n",
      "ënter a element1\n",
      "ënter a element2\n",
      "ënter a element3\n",
      "ënter a element4\n",
      "ënter a element5\n",
      "sum of elements 15\n"
     ]
    }
   ],
   "source": [
    "def summ_list(numlist):\n",
    "    tot=0\n",
    "    for j in range(num):\n",
    "        tot=tot+numlist[j]\n",
    "    return tot\n",
    "numlist=[]\n",
    "num=int(input(\"enter a number list of elements:\"))\n",
    "for i in range(1,num+1):\n",
    "    value=int(input(\"enter a element\"))\n",
    "    numlist.append(value)\n",
    "tot=summ_list(numlist)\n",
    "print(\"sum of elements\",tot)\n",
    "    "
   ]
  },
  {
   "cell_type": "code",
   "execution_count": 17,
   "metadata": {},
   "outputs": [
    {
     "name": "stdout",
     "output_type": "stream",
     "text": [
      "given string teju\n",
      "reverse string ujet\n"
     ]
    }
   ],
   "source": [
    "def reverse(string):\n",
    "    s=\"\"\n",
    "    for ch in string:\n",
    "        s=ch+s\n",
    "    return s \n",
    "mystr=\"teju\"\n",
    "print(\"given string\",mystr)\n",
    "print(\"reverse string\",reverse(mystr))\n",
    "    \n",
    "    "
   ]
  },
  {
   "cell_type": "code",
   "execution_count": 26,
   "metadata": {},
   "outputs": [
    {
     "name": "stdout",
     "output_type": "stream",
     "text": [
      "enter a element:2\n",
      "it is prime:\n"
     ]
    }
   ],
   "source": [
    "def prime(n):\n",
    "    count=0\n",
    "    for i in range(2,n//2+1):\n",
    "        if (n%i==0):\n",
    "            count=count+1\n",
    "    return count\n",
    "n=int(input(\"enter a element:\"))\n",
    "count=prime(n)\n",
    "if(count==0 and n!=1):\n",
    "    print(\"it is prime:\")\n",
    "else:\n",
    "    print(\"it is not a prime:\")\n",
    "            \n"
   ]
  },
  {
   "cell_type": "code",
   "execution_count": 1,
   "metadata": {},
   "outputs": [
    {
     "name": "stdout",
     "output_type": "stream",
     "text": [
      "enter a number:1441\n",
      "it is palindrome:\n",
      "it is palindrome:\n"
     ]
    }
   ],
   "source": [
    "def palindrome(n):\n",
    "    rev=0\n",
    "    while(n>0):\n",
    "        r=n%10\n",
    "        rev=(rev*10)+r\n",
    "        n=n//10\n",
    "    return rev\n",
    "n=int(input(\"enter a number:\"))\n",
    "rev=palindrome(n)\n",
    "if(n==rev):\n",
    "    print(\"it is palindrome:\")\n",
    "else:\n",
    "    print(\"it is not a palindrome:\")\n"
   ]
  },
  {
   "cell_type": "code",
   "execution_count": 5,
   "metadata": {},
   "outputs": [
    {
     "name": "stdout",
     "output_type": "stream",
     "text": [
      "enter string:Are\n"
     ]
    },
    {
     "data": {
      "text/plain": [
       "(2, 1)"
      ]
     },
     "execution_count": 5,
     "metadata": {},
     "output_type": "execute_result"
    },
    {
     "data": {
      "text/plain": [
       "(2, 1)"
      ]
     },
     "execution_count": 5,
     "metadata": {},
     "output_type": "execute_result"
    }
   ],
   "source": [
    "def stri(s):\n",
    "    count1=0\n",
    "    count2=0\n",
    "    for i in s:\n",
    "        if(i.islower()):\n",
    "            count1=count1+1\n",
    "        else:\n",
    "            count2=count2+1\n",
    "    #print(count2)\n",
    "    #print(count1)\n",
    "    return (\"Number of lower case \",count1. \"\",count2\n",
    "    \n",
    "    \n",
    "    \n",
    "\n",
    "name=input(\"enter string:\")\n",
    "stri(name)\n",
    "\n",
    "\n",
    "\n"
   ]
  },
  {
   "cell_type": "code",
   "execution_count": null,
   "metadata": {},
   "outputs": [],
   "source": []
  },
  {
   "cell_type": "code",
   "execution_count": null,
   "metadata": {},
   "outputs": [],
   "source": []
  }
 ],
 "metadata": {
  "kernelspec": {
   "display_name": "Python 3",
   "language": "python",
   "name": "python3"
  },
  "language_info": {
   "codemirror_mode": {
    "name": "ipython",
    "version": 3
   },
   "file_extension": ".py",
   "mimetype": "text/x-python",
   "name": "python",
   "nbconvert_exporter": "python",
   "pygments_lexer": "ipython3",
   "version": "3.7.3"
  }
 },
 "nbformat": 4,
 "nbformat_minor": 2
}
