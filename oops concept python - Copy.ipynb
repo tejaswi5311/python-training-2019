{
 "cells": [
  {
   "cell_type": "markdown",
   "metadata": {},
   "source": [
    "# Python oops concept:\n",
    "#### python is a object oriented programming language.It allows us to develop the applications using object orPython object:¶\n",
    "iented approach.In python, we can easily create and use classes and objects.\n",
    "## Class\n",
    "## object\n",
    "## inheritance\n",
    "## polymorphism\n",
    "## encapsulation\n",
    "## data abstraction\n",
    "## instance\n",
    "## instantiation\n",
    "## method\n"
   ]
  },
  {
   "cell_type": "markdown",
   "metadata": {},
   "source": [
    "# Python object:\n",
    "## it is an object oriented programming language.So it is main focus is an object unlike procedure in oriented programming languages which mainly focuses on function.\n",
    "## object is simply a collection of data (variables) and methods(functions)that act on those data."
   ]
  },
  {
   "cell_type": "markdown",
   "metadata": {},
   "source": [
    "# Python class:\n",
    "## It is like a blue print for the object.\n",
    "### suppose a class is a prototype of a building contains all the details about the floor,doors,windows,etc...;we can make another buildings(as many as want)based on these details. so building is a class and we can create many objects from a class."
   ]
  },
  {
   "cell_type": "markdown",
   "metadata": {},
   "source": [
    "## An object is also called an instance of a class and the process of creating this object is known as instantation.Python classes contain all the standard features of oops."
   ]
  },
  {
   "cell_type": "markdown",
   "metadata": {},
   "source": [
    "# creating a class\n",
    "##### class className:\n",
    "    ######### class_suite\n",
    "    ### \"__init__\" is a reseved method in python classes. It is called as a constructor in object oriented terminology. This method is called when an object is created from a class and it allows the class to initialize the attributes of the class.\n",
    "    \n",
    "    ## SELF:self represents the instance of the class. By using the “self” keyword we can access the attributes and methods of the class in python.\n",
    "    "
   ]
  },
  {
   "cell_type": "code",
   "execution_count": 2,
   "metadata": {},
   "outputs": [
    {
     "name": "stdout",
     "output_type": "stream",
     "text": [
      "Name: vishal id: 101\n",
      "Name: jignesh id: 102\n"
     ]
    }
   ],
   "source": [
    "class Student:\n",
    "    student_count=0\n",
    "    def __init__(self,name,id):\n",
    "        self.name = name\n",
    "        self.id = id\n",
    "        Student.student_count+=1\n",
    "    def printStudentData(self):\n",
    "        print(\"Name:\",self.name,\"id:\",self.id)\n",
    "s=Student(\"vishal\",101)\n",
    "std=Student(\"jignesh\",\"102\")\n",
    "s.printStudentData()\n",
    "std.printStudentData()\n",
    "        "
   ]
  },
  {
   "cell_type": "code",
   "execution_count": 3,
   "metadata": {},
   "outputs": [
    {
     "name": "stdout",
     "output_type": "stream",
     "text": [
      "my name isJohn\n",
      "my age is29\n"
     ]
    }
   ],
   "source": [
    "class Person:\n",
    "    def __init__(self,name,age):\n",
    "        self.name=name\n",
    "        self.age=age\n",
    "    def myfun(self):\n",
    "        print(\"my name is\"+ str(self.name))\n",
    "        print(\"my age is\"+ str(self.age))\n",
    "\n",
    "p1=Person(\"John\",29)\n",
    "p1.myfun()"
   ]
  },
  {
   "cell_type": "code",
   "execution_count": 4,
   "metadata": {},
   "outputs": [
    {
     "name": "stdout",
     "output_type": "stream",
     "text": [
      "Name: vishal id: 101\n"
     ]
    }
   ],
   "source": [
    "std=Student(\"jignesh\",\"102\")\n",
    "s.printStudentData()"
   ]
  },
  {
   "cell_type": "code",
   "execution_count": 5,
   "metadata": {},
   "outputs": [
    {
     "name": "stdout",
     "output_type": "stream",
     "text": [
      "Total Student: 4\n",
      "Name: vishal id: 101\n",
      "Name: rahul id: 102\n",
      "Name: ritesh id: 103\n",
      "Name: alish id: 104\n"
     ]
    }
   ],
   "source": [
    "class Student:\n",
    "    student_count=0\n",
    "    def __init__(self,name,id):\n",
    "        self.name = name\n",
    "        self.id = id\n",
    "        Student.student_count+=1\n",
    "    def printStudentData(self):\n",
    "        print(\"Name:\",self.name,\"id:\",self.id)\n",
    "s1=Student(\"vishal\",101)\n",
    "s2=Student(\"rahul\",102)\n",
    "s3=Student(\"ritesh\",103)\n",
    "s4=Student(\"alish\",104)\n",
    "print(\"Total Student:\",Student.student_count)\n",
    "s1.printStudentData()\n",
    "s2.printStudentData()\n",
    "s3.printStudentData()\n",
    "s4.printStudentData()"
   ]
  },
  {
   "cell_type": "markdown",
   "metadata": {},
   "source": [
    "# ######  The\" __del__() \"method is a known as a destructor method in Python. It is called when all references to the object have been deleted i.e when an object is garbage collected.\n",
    "    ## Syntax:def __del__(self):\n",
    "    ## body of destructor"
   ]
  },
  {
   "cell_type": "code",
   "execution_count": 6,
   "metadata": {},
   "outputs": [
    {
     "name": "stdout",
     "output_type": "stream",
     "text": [
      "Employee created.\n",
      "Destructor called, Employee deleted.\n"
     ]
    }
   ],
   "source": [
    "# Python program to illustrate destructor \n",
    "class Employee: \n",
    "  \n",
    "    # Initializing \n",
    "    def __init__(self): \n",
    "        print('Employee created.') \n",
    "  \n",
    "    # Deleting (Calling destructor) \n",
    "    def __del__(self): \n",
    "        print('Destructor called, Employee deleted.') \n",
    "  \n",
    "obj = Employee() \n",
    "del obj "
   ]
  },
  {
   "cell_type": "markdown",
   "metadata": {},
   "source": [
    "# instead of using normal statements to acess attributes,you can use the following functions...\n",
    "### getattr(obj,key,def)---to acess the attribute of object\n",
    "### hasattr(obj,key)---to check if an attribute exists or not\n",
    "### setattr(obj,var,value)---to set an attribute does not exist,then it would be created.\n",
    "### delattr(obj,name)---to delete an attribute\n"
   ]
  },
  {
   "cell_type": "code",
   "execution_count": null,
   "metadata": {},
   "outputs": [],
   "source": []
  },
  {
   "cell_type": "code",
   "execution_count": 17,
   "metadata": {},
   "outputs": [],
   "source": [
    "hasattr(s1,\"id\")\n",
    "getattr(s1,\"id\",(105))\n",
    "setattr(s1,\"id\",105)\n",
    "delattr(s1,\"id\")"
   ]
  },
  {
   "cell_type": "code",
   "execution_count": 8,
   "metadata": {},
   "outputs": [
    {
     "name": "stdout",
     "output_type": "stream",
     "text": [
      "Total Student: 4\n",
      "Student.__doc__: None\n",
      "StudentStudent.__name__: Student\n",
      "Student.__module__: __main__\n",
      "Student.__bases__: (<class 'object'>,)\n",
      "Student.__dict__: {'__module__': '__main__', 'student_count': 4, '__init__': <function Student.__init__ at 0x00991858>, 'printStudentData': <function Student.printStudentData at 0x009919C0>, '__dict__': <attribute '__dict__' of 'Student' objects>, '__weakref__': <attribute '__weakref__' of 'Student' objects>, '__doc__': None}\n"
     ]
    }
   ],
   "source": [
    "class Student:\n",
    "    student_count=0\n",
    "    def __init__(self,name,id):\n",
    "        self.name = name\n",
    "        self.id = id\n",
    "        Student.student_count+=1\n",
    "    def printStudentData(self):\n",
    "        print(\"Name:\",self.name,\"id:\",self.id)\n",
    "s1=Student(\"vishal\",101)\n",
    "s2=Student(\"rahul\",102)\n",
    "s3=Student(\"ritesh\",103)\n",
    "s4=Student(\"alish\",104)\n",
    "print(\"Total Student:\",Student.student_count)\n",
    "print(\"Student.__doc__:\",Student.__doc__)\n",
    "print(\"StudentStudent.__name__:\",Student.__name__)\n",
    "print(\"Student.__module__:\",Student.__module__)\n",
    "print(\"Student.__bases__:\",Student.__bases__)\n",
    "print(\"Student.__dict__:\",Student.__dict__)"
   ]
  },
  {
   "cell_type": "markdown",
   "metadata": {},
   "source": [
    "# Python Constructors:\n",
    "## A Constructor is a special type of method(function) which is used to initialize the instance members of the class.Constructor can be parameterized and non-parameterzied as well\n",
    "## Constructor defintion executes when we create object of the class. Constructors also verify that they are enough resources for the object to perform any strart-up-task.\n"
   ]
  },
  {
   "cell_type": "code",
   "execution_count": 9,
   "metadata": {},
   "outputs": [
    {
     "name": "stdout",
     "output_type": "stream",
     "text": [
      "3+5j\n"
     ]
    }
   ],
   "source": [
    "class complexnumber:\n",
    "    def __init__(self,r=0,i=1):\n",
    "        self.real=r;\n",
    "        self.image=i;\n",
    "    def data(self):\n",
    "        print('{0}+{1}j'.format(self.real,self.image))\n",
    "c1=complexnumber(3,5)\n",
    "c1.data()\n",
    "    \n",
    "    "
   ]
  },
  {
   "cell_type": "code",
   "execution_count": 10,
   "metadata": {},
   "outputs": [
    {
     "name": "stdout",
     "output_type": "stream",
     "text": [
      "this is parametrized constructor\n",
      "hii vishal\n"
     ]
    }
   ],
   "source": [
    "class student:\n",
    "    def __init__(self,name):\n",
    "        print(\"this is parametrized constructor\")\n",
    "        self.name=name\n",
    "    def show(self):\n",
    "        print(\"hii\",self.name)\n",
    "s1=student(\"vishal\")\n",
    "s1.show()"
   ]
  },
  {
   "cell_type": "code",
   "execution_count": null,
   "metadata": {},
   "outputs": [],
   "source": []
  },
  {
   "cell_type": "code",
   "execution_count": null,
   "metadata": {},
   "outputs": [],
   "source": []
  },
  {
   "cell_type": "code",
   "execution_count": 21,
   "metadata": {},
   "outputs": [
    {
     "name": "stdout",
     "output_type": "stream",
     "text": [
      "enter milk of liters:75\n",
      "the sufficient of milk: 8 bottels of milk\n"
     ]
    }
   ],
   "source": [
    "n=int(input(\"enter milk of liters:\"))\n",
    "def milk(n):\n",
    "    s=0\n",
    "    i=1\n",
    "    if n>=0:\n",
    "        k=n//10\n",
    "    r=n%10\n",
    "    if r<=0:\n",
    "        print(i)\n",
    "    print(\"the sufficient of milk:\",k+i,\"bottels of milk\")\n",
    "    return\n",
    "milk(n)\n",
    "    "
   ]
  },
  {
   "cell_type": "code",
   "execution_count": null,
   "metadata": {},
   "outputs": [],
   "source": []
  }
 ],
 "metadata": {
  "kernelspec": {
   "display_name": "Python 3",
   "language": "python",
   "name": "python3"
  },
  "language_info": {
   "codemirror_mode": {
    "name": "ipython",
    "version": 3
   },
   "file_extension": ".py",
   "mimetype": "text/x-python",
   "name": "python",
   "nbconvert_exporter": "python",
   "pygments_lexer": "ipython3",
   "version": "3.7.3"
  }
 },
 "nbformat": 4,
 "nbformat_minor": 2
}
