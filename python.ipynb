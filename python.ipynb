{
 "cells": [
  {
   "cell_type": "markdown",
   "metadata": {},
   "source": [
    "# python programming language"
   ]
  },
  {
   "cell_type": "markdown",
   "metadata": {},
   "source": [
    "# point\n",
    "    . point 1\n",
    "         .point 1.1\n",
    "    . point 2\n",
    "    . point 3"
   ]
  },
  {
   "cell_type": "markdown",
   "metadata": {},
   "source": [
    "* **point**\n",
    "* *ponit*\n",
    "* ** ponit**"
   ]
  },
  {
   "cell_type": "markdown",
   "metadata": {},
   "source": [
    "<img src='screenshot.png' />"
   ]
  },
  {
   "cell_type": "markdown",
   "metadata": {},
   "source": [
    ". google link\n",
    "https://jakevdp.github.io/PythonDataScienceHandbook/04.12-three-dimensional-plotting.html"
   ]
  },
  {
   "cell_type": "code",
   "execution_count": 1,
   "metadata": {},
   "outputs": [
    {
     "name": "stdout",
     "output_type": "stream",
     "text": [
      "heel\n",
      "wwww\n"
     ]
    }
   ],
   "source": [
    "print('heel')\n",
    "print('wwww')"
   ]
  },
  {
   "cell_type": "code",
   "execution_count": 2,
   "metadata": {},
   "outputs": [
    {
     "name": "stdout",
     "output_type": "stream",
     "text": [
      "100<class 'int'>\n",
      "3\n"
     ]
    }
   ],
   "source": [
    "a=100\n",
    "print(a, end='')\n",
    "print(type(a))\n",
    "print(len(str(a)))"
   ]
  },
  {
   "cell_type": "code",
   "execution_count": 3,
   "metadata": {},
   "outputs": [
    {
     "name": "stdout",
     "output_type": "stream",
     "text": [
      "100<class 'str'>\n"
     ]
    },
    {
     "ename": "NameError",
     "evalue": "name 'b' is not defined",
     "output_type": "error",
     "traceback": [
      "\u001b[1;31m---------------------------------------------------------------------------\u001b[0m",
      "\u001b[1;31mNameError\u001b[0m                                 Traceback (most recent call last)",
      "\u001b[1;32m<ipython-input-3-a8d50d94227c>\u001b[0m in \u001b[0;36m<module>\u001b[1;34m\u001b[0m\n\u001b[0;32m      2\u001b[0m \u001b[0mprint\u001b[0m\u001b[1;33m(\u001b[0m\u001b[0ma\u001b[0m\u001b[1;33m,\u001b[0m\u001b[0mend\u001b[0m\u001b[1;33m=\u001b[0m\u001b[1;34m''\u001b[0m\u001b[1;33m)\u001b[0m\u001b[1;33m\u001b[0m\u001b[1;33m\u001b[0m\u001b[0m\n\u001b[0;32m      3\u001b[0m \u001b[0mprint\u001b[0m\u001b[1;33m(\u001b[0m\u001b[0mtype\u001b[0m\u001b[1;33m(\u001b[0m\u001b[0ma\u001b[0m\u001b[1;33m)\u001b[0m\u001b[1;33m)\u001b[0m\u001b[1;33m\u001b[0m\u001b[1;33m\u001b[0m\u001b[0m\n\u001b[1;32m----> 4\u001b[1;33m \u001b[0mprint\u001b[0m\u001b[1;33m(\u001b[0m\u001b[0mb\u001b[0m\u001b[1;33m,\u001b[0m\u001b[0mend\u001b[0m\u001b[1;33m=\u001b[0m\u001b[1;34m''\u001b[0m\u001b[1;33m)\u001b[0m\u001b[1;33m\u001b[0m\u001b[1;33m\u001b[0m\u001b[0m\n\u001b[0m\u001b[0;32m      5\u001b[0m \u001b[0mb\u001b[0m\u001b[1;33m=\u001b[0m\u001b[0mint\u001b[0m\u001b[1;33m(\u001b[0m\u001b[0ma\u001b[0m\u001b[1;33m)\u001b[0m\u001b[1;33m\u001b[0m\u001b[1;33m\u001b[0m\u001b[0m\n",
      "\u001b[1;31mNameError\u001b[0m: name 'b' is not defined"
     ]
    }
   ],
   "source": [
    "a='100'\n",
    "print(a,end='')\n",
    "print(type(a))\n",
    "print(b,end='')\n",
    "b=int(a)"
   ]
  },
  {
   "cell_type": "code",
   "execution_count": 4,
   "metadata": {},
   "outputs": [
    {
     "name": "stdout",
     "output_type": "stream",
     "text": [
      "rrrrrrrr\n"
     ]
    }
   ],
   "source": [
    "print(8*'r')"
   ]
  },
  {
   "cell_type": "code",
   "execution_count": 5,
   "metadata": {},
   "outputs": [
    {
     "name": "stdout",
     "output_type": "stream",
     "text": [
      "enter a name\n",
      " <class 'str'>\n"
     ]
    }
   ],
   "source": [
    "a=input('enter a name')\n",
    "print(a,type(a))"
   ]
  },
  {
   "cell_type": "code",
   "execution_count": 6,
   "metadata": {},
   "outputs": [
    {
     "name": "stdout",
     "output_type": "stream",
     "text": [
      "enter number5\n",
      "5 <class 'int'>\n"
     ]
    }
   ],
   "source": [
    "a=int(input('enter number'))\n",
    "print(a,type(a))"
   ]
  },
  {
   "cell_type": "markdown",
   "metadata": {},
   "source": [
    "# operators\n",
    "    .+\n",
    "    .-\n",
    "    .*\n",
    "    ./\n",
    "    .%\n",
    "    .**\n",
    "    .//"
   ]
  },
  {
   "cell_type": "code",
   "execution_count": 7,
   "metadata": {},
   "outputs": [
    {
     "name": "stdout",
     "output_type": "stream",
     "text": [
      "3.3333333333333335\n",
      "3\n",
      "6\n",
      "8\n"
     ]
    }
   ],
   "source": [
    "print(10/3)\n",
    "print(10//3)\n",
    "print(2*3)\n",
    "print(2**3)"
   ]
  },
  {
   "cell_type": "code",
   "execution_count": 8,
   "metadata": {},
   "outputs": [
    {
     "name": "stdout",
     "output_type": "stream",
     "text": [
      "8.0\n"
     ]
    }
   ],
   "source": [
    "x=1+2**3/4+5\n",
    "print(x)"
   ]
  },
  {
   "cell_type": "markdown",
   "metadata": {},
   "source": [
    "# logical operators\n",
    "    . and\n",
    "    . or\n",
    "    . not"
   ]
  },
  {
   "cell_type": "code",
   "execution_count": 9,
   "metadata": {},
   "outputs": [
    {
     "name": "stdout",
     "output_type": "stream",
     "text": [
      "True <class 'bool'>\n",
      "True <class 'bool'>\n"
     ]
    }
   ],
   "source": [
    "a=10\n",
    "b=(a>1)and (a>= 10)\n",
    "print(b, type(b))\n",
    "b=(a<9) or (a<100)\n",
    "print(b, type(b))"
   ]
  },
  {
   "cell_type": "markdown",
   "metadata": {},
   "source": [
    "# conditional statemets\n",
    "\n",
    "    . conditional statement\n",
    "        . if else\n",
    "    . looping statements\n",
    "        . while\n",
    "        . for"
   ]
  },
  {
   "cell_type": "code",
   "execution_count": 10,
   "metadata": {},
   "outputs": [
    {
     "name": "stdout",
     "output_type": "stream",
     "text": [
      "5\n",
      "odd\n"
     ]
    }
   ],
   "source": [
    "# read a number as input\n",
    "# print output as even or odd\n",
    "a=int(input(''))\n",
    "if a%2==0:   \n",
    "  print('even')\n",
    "else:\n",
    "    print('odd')"
   ]
  },
  {
   "cell_type": "code",
   "execution_count": 11,
   "metadata": {},
   "outputs": [
    {
     "name": "stdout",
     "output_type": "stream",
     "text": [
      "5\n",
      "positive number\n"
     ]
    }
   ],
   "source": [
    "# read a number as input\n",
    "# print the output as zero, positive and negative number\n",
    "a=int(input(''))\n",
    "if a==0:\n",
    "    print('zero')\n",
    "elif a>0:\n",
    "        print('positive number')\n",
    "elif a<0:\n",
    "            print('negative number')"
   ]
  },
  {
   "cell_type": "markdown",
   "metadata": {},
   "source": [
    "# lopping statements\n",
    "    .while\n",
    "    .for"
   ]
  },
  {
   "cell_type": "code",
   "execution_count": 1,
   "metadata": {},
   "outputs": [
    {
     "name": "stdout",
     "output_type": "stream",
     "text": [
      "enter a number:10\n",
      "12345678910"
     ]
    }
   ],
   "source": [
    "# print numbers from 1 to n\n",
    "# input:10\n",
    "# output 1,2,3,4,5,6,....10\n",
    "n=int(input('enter a number:'))\n",
    "i=1\n",
    "while i<=n:\n",
    "    print(i,end='')\n",
    "    i=i+1"
   ]
  },
  {
   "cell_type": "code",
   "execution_count": 7,
   "metadata": {},
   "outputs": [
    {
     "name": "stdout",
     "output_type": "stream",
     "text": [
      "enter a number:10\n",
      "30\n"
     ]
    }
   ],
   "source": [
    "# read the number as input\n",
    "# output as only even number as sum 1 to n\n",
    "n=int(input('enter a number:'))\n",
    "i=1\n",
    "s=0\n",
    "while i<=n:\n",
    "    if i%2==0:\n",
    "        s=s+i\n",
    "    i=i+1\n",
    "print(s)    \n",
    "    "
   ]
  },
  {
   "cell_type": "code",
   "execution_count": 20,
   "metadata": {},
   "outputs": [
    {
     "name": "stdout",
     "output_type": "stream",
     "text": [
      "enter a number:123\n",
      "3 2 1 "
     ]
    }
   ],
   "source": [
    "# read a number as input\n",
    "# output has be digits of the number\n",
    "# input 123\n",
    "# output 321\n",
    "n=int(input('enter a number:'))\n",
    "while n> 0:\n",
    "    print(n%10,end=' ')\n",
    "    n=n//10\n",
    "    "
   ]
  },
  {
   "cell_type": "code",
   "execution_count": 18,
   "metadata": {},
   "outputs": [
    {
     "name": "stdout",
     "output_type": "stream",
     "text": [
      "enter a number:10\n"
     ]
    },
    {
     "data": {
      "text/plain": [
       "True"
      ]
     },
     "execution_count": 18,
     "metadata": {},
     "output_type": "execute_result"
    }
   ],
   "source": [
    "# "
   ]
  },
  {
   "cell_type": "code",
   "execution_count": null,
   "metadata": {},
   "outputs": [],
   "source": [
    "# read a number\n",
    "# print the even digit sum from the number\n",
    "\n",
    "def evenDigitSum(n):\n",
    "    \n",
    "            \n",
    "    \n",
    "    "
   ]
  },
  {
   "cell_type": "code",
   "execution_count": 19,
   "metadata": {},
   "outputs": [
    {
     "data": {
      "text/plain": [
       "9"
      ]
     },
     "execution_count": 19,
     "metadata": {},
     "output_type": "execute_result"
    }
   ],
   "source": [
    "# input 19535\n",
    "# output:9(large digit of the given number)\n",
    "# functional programming\n",
    "def largeDigit(n):\n",
    "    large=0\n",
    "    while n>0:\n",
    "        r=n%10\n",
    "        if r>large:\n",
    "            large=r\n",
    "        n=n//10\n",
    "    return large\n",
    "largeDigit(1935)"
   ]
  },
  {
   "cell_type": "code",
   "execution_count": 41,
   "metadata": {},
   "outputs": [
    {
     "name": "stdout",
     "output_type": "stream",
     "text": [
      "yes\n",
      "no\n"
     ]
    }
   ],
   "source": [
    "# read a number as input\n",
    "# output yes or not\n",
    "# input:145\n",
    "# output:yes\n",
    "# input:123\n",
    "# output:no\n",
    "# individual digit factorial sum is same as the input number\n",
    "def factorial(n):\n",
    "    fact = 1\n",
    "    i=1\n",
    "    while i<=n:\n",
    "        fact=fact*i\n",
    "        i=i+1\n",
    "    return fact    \n",
    "\n",
    "def digitFactSum(n):\n",
    "    s=0\n",
    "    buffer=n\n",
    "    while n>0:\n",
    "        r=n%10\n",
    "        s+=factorial(r)\n",
    "        n=n//10\n",
    "    if buffer==s:\n",
    "        return 'yes'\n",
    "    else:\n",
    "        return 'no'\n",
    "    return \n",
    "print(digitFactSum(145))# yes\n",
    "print(digitFactSum(123))# n0\n",
    "        \n",
    "    "
   ]
  },
  {
   "cell_type": "code",
   "execution_count": 48,
   "metadata": {},
   "outputs": [
    {
     "name": "stdout",
     "output_type": "stream",
     "text": [
      "palindrome\n",
      "not a palindrome\n"
     ]
    }
   ],
   "source": [
    "# read a number as input\n",
    "# output as palindrome or not a palindrome\n",
    "# palindrome--A number after reversing is same as the input number\n",
    "# input 121\n",
    "# output palindrome\n",
    "# input 123\n",
    "# not a palindrome\n",
    "def palindrome(n):\n",
    "    temp=n\n",
    "    r=0\n",
    "    while n>0:\n",
    "        d=n%10\n",
    "        r=r*10+d\n",
    "        n=n//10\n",
    "    if temp==r:\n",
    "        return 'palindrome'\n",
    "    return 'not a palindrome'\n",
    "    \n",
    "print(palindrome(121))#palindrome\n",
    "print(palindrome(123))#not a palindrome"
   ]
  },
  {
   "cell_type": "code",
   "execution_count": 54,
   "metadata": {},
   "outputs": [
    {
     "name": "stdout",
     "output_type": "stream",
     "text": [
      "11 12 13 14 15 16 17 18 19 20 21 22 23 24 25 "
     ]
    }
   ],
   "source": [
    "# function to print the numbers between two limits\n",
    "# input 11 25\n",
    "# output 11 12 13 14 15....25\n",
    "def printSeries(low,high):\n",
    "    for i in range (low,high+1):\n",
    "        print(i,end=' ')\n",
    "    return\n",
    "printSeries(11,25)"
   ]
  },
  {
   "cell_type": "code",
   "execution_count": 57,
   "metadata": {},
   "outputs": [
    {
     "name": "stdout",
     "output_type": "stream",
     "text": [
      "500 504 508 512 516 520 None\n",
      "100 104 108 112 116 120 124 128 132 136 140 None\n"
     ]
    }
   ],
   "source": [
    "# function to print alternate numbers\n",
    "# [500,520]---502 504 506.....524\n",
    "# [100,140]---100 101 102 103 ...140\n",
    "def alternateNumbers(low,high):\n",
    "    for i in range(low,high+1,4):\n",
    "        print(i,end=' ')\n",
    "    return\n",
    "print(alternateNumbers(500,520))\n",
    "print(alternateNumbers(100,140))"
   ]
  },
  {
   "cell_type": "code",
   "execution_count": null,
   "metadata": {},
   "outputs": [],
   "source": []
  }
 ],
 "metadata": {
  "kernelspec": {
   "display_name": "Python 3",
   "language": "python",
   "name": "python3"
  },
  "language_info": {
   "codemirror_mode": {
    "name": "ipython",
    "version": 3
   },
   "file_extension": ".py",
   "mimetype": "text/x-python",
   "name": "python",
   "nbconvert_exporter": "python",
   "pygments_lexer": "ipython3",
   "version": "3.7.3"
  }
 },
 "nbformat": 4,
 "nbformat_minor": 2
}
